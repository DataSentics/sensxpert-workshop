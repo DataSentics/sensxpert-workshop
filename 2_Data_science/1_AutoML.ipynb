{
 "cells": [
  {
   "cell_type": "markdown",
   "metadata": {
    "application/vnd.databricks.v1+cell": {
     "cellMetadata": {
      "byteLimit": 2048000,
      "rowLimit": 10000
     },
     "inputWidgets": {},
     "nuid": "f4567210-d6c2-4c7f-b4bb-ba3b46f204b3",
     "showTitle": false,
     "title": ""
    }
   },
   "source": [
    "# AutoML\n",
    "AutoML on Databricks is a powerful and efficient solution that leverages automated machine learning capabilities to streamline the model-building process and accelerate data-driven insights. With its integration into the Databricks platform, users can effortlessly harness the power of machine learning without the complexities of traditional manual workflows. Here are five key points about AutoML on Databricks:\n",
    "\n",
    "- Automated Model Selection\n",
    "- Source code notebooks\n",
    "- Hyperparameter Tuning\n",
    "- Pitffals: Not natively integrated with spark ml"
   ]
  },
  {
   "cell_type": "markdown",
   "metadata": {
    "application/vnd.databricks.v1+cell": {
     "cellMetadata": {
      "byteLimit": 2048000,
      "rowLimit": 10000
     },
     "inputWidgets": {},
     "nuid": "11e6d9a4-6c7f-4199-9d06-55fab695da72",
     "showTitle": false,
     "title": ""
    }
   },
   "source": [
    "<img src=\"https://www.databricks.com/en-website-assets/static/f463cdcf21173f80207c9c765865c576/19223.png\" />"
   ]
  },
  {
   "cell_type": "markdown",
   "metadata": {
    "application/vnd.databricks.v1+cell": {
     "cellMetadata": {
      "byteLimit": 2048000,
      "rowLimit": 10000
     },
     "inputWidgets": {},
     "nuid": "4352c1e1-b15d-442b-a342-bb9f6950f2d7",
     "showTitle": false,
     "title": ""
    }
   },
   "source": [
    "### Wine dataset\n",
    "The wine dataset is a classic and very easy multi-class classification dataset. It contains 13 different parameters for wine with 178 samples. The purpose of this wine dataset in scikit-learn is to predict the best wine class among 3 classes."
   ]
  },
  {
   "cell_type": "code",
   "execution_count": 0,
   "metadata": {
    "application/vnd.databricks.v1+cell": {
     "cellMetadata": {
      "byteLimit": 2048000,
      "rowLimit": 10000
     },
     "inputWidgets": {},
     "nuid": "a8aeca99-86e8-45fe-b666-b02c876dd2eb",
     "showTitle": false,
     "title": ""
    }
   },
   "outputs": [],
   "source": [
    "from sklearn.datasets import load_wine\n",
    "from sklearn.model_selection import train_test_split\n",
    "import pandas as pd"
   ]
  },
  {
   "cell_type": "code",
   "execution_count": 0,
   "metadata": {
    "application/vnd.databricks.v1+cell": {
     "cellMetadata": {
      "byteLimit": 2048000,
      "rowLimit": 10000
     },
     "inputWidgets": {},
     "nuid": "82534397-bde1-4831-8a56-c18226139279",
     "showTitle": false,
     "title": ""
    }
   },
   "outputs": [],
   "source": [
    "wine = load_wine()\n",
    "\n",
    "# convert dataset into a dataframe\n",
    "wine_df = pd.DataFrame(data=wine.data, columns=wine.feature_names)\n",
    "wine_df[\"target\"] = wine.target"
   ]
  },
  {
   "cell_type": "code",
   "execution_count": 0,
   "metadata": {
    "application/vnd.databricks.v1+cell": {
     "cellMetadata": {
      "byteLimit": 2048000,
      "rowLimit": 10000
     },
     "inputWidgets": {},
     "nuid": "c444db56-ff6c-4958-9d65-5eb36f863b39",
     "showTitle": false,
     "title": ""
    }
   },
   "outputs": [],
   "source": [
    "train_df, test_df = train_test_split(wine_df, test_size=0.2)\n",
    "display(train_df)"
   ]
  },
  {
   "cell_type": "code",
   "execution_count": 0,
   "metadata": {
    "application/vnd.databricks.v1+cell": {
     "cellMetadata": {
      "byteLimit": 2048000,
      "rowLimit": 10000
     },
     "inputWidgets": {},
     "nuid": "55318347-a59f-4ea3-a816-5bc766908861",
     "showTitle": false,
     "title": ""
    }
   },
   "outputs": [],
   "source": [
    "from databricks import automl\n",
    "summary = automl.classify(train_df, target_col=\"target\", timeout_minutes=5)"
   ]
  },
  {
   "cell_type": "code",
   "execution_count": 0,
   "metadata": {
    "application/vnd.databricks.v1+cell": {
     "cellMetadata": {
      "byteLimit": 2048000,
      "rowLimit": 10000
     },
     "inputWidgets": {},
     "nuid": "3b123887-8370-40ba-ac98-63b0c17e5d2b",
     "showTitle": false,
     "title": ""
    }
   },
   "outputs": [],
   "source": [
    "help(summary)"
   ]
  }
 ],
 "metadata": {
  "application/vnd.databricks.v1+notebook": {
   "dashboards": [],
   "environmentMetadata": null,
   "language": "python",
   "notebookMetadata": {
    "pythonIndentUnit": 4
   },
   "notebookName": "1_AutoML",
   "widgets": {}
  }
 },
 "nbformat": 4,
 "nbformat_minor": 0
}
